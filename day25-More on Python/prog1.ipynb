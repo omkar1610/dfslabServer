{
 "cells": [
  {
   "cell_type": "code",
   "execution_count": null,
   "metadata": {},
   "outputs": [],
   "source": [
    "%%time\n",
    "import time\n",
    "\n",
    "t = time.process_time()\n",
    "#do some stuff\n",
    "print(\"hello\")\n",
    "elapsed_time = time.process_time() - t\n",
    "elapsed_time * (10**6)"
   ]
  },
  {
   "cell_type": "code",
   "execution_count": 118,
   "metadata": {},
   "outputs": [
    {
     "name": "stdout",
     "output_type": "stream",
     "text": [
      "4\n",
      "   *\n",
      "\n",
      "  ***\n",
      "\n",
      " *****\n",
      "\n",
      "*******\n",
      "\n"
     ]
    }
   ],
   "source": [
    "x = int(input())\n",
    "for i in range(x):\n",
    "    for j in range(x-i-1):\n",
    "        print(\" \", end='')\n",
    "    for j in range(2*i+1):\n",
    "        print(\"*\", end='')\n",
    "    print(\"\\n\")\n",
    "\n",
    "        "
   ]
  }
 ],
 "metadata": {
  "kernelspec": {
   "display_name": "Python 3",
   "language": "python",
   "name": "python3"
  },
  "language_info": {
   "codemirror_mode": {
    "name": "ipython",
    "version": 3
   },
   "file_extension": ".py",
   "mimetype": "text/x-python",
   "name": "python",
   "nbconvert_exporter": "python",
   "pygments_lexer": "ipython3",
   "version": "3.6.8"
  }
 },
 "nbformat": 4,
 "nbformat_minor": 2
}
