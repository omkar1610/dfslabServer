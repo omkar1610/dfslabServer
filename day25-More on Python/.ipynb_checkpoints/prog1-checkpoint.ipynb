{
 "cells": [
  {
   "cell_type": "code",
   "execution_count": null,
   "metadata": {},
   "outputs": [],
   "source": [
    "%%time\n",
    "import time\n",
    "\n",
    "t = time.process_time()\n",
    "#do some stuff\n",
    "print(\"hello\")\n",
    "elapsed_time = time.process_time() - t\n",
    "elapsed_time * (10**6)"
   ]
  },
  {
   "cell_type": "code",
   "execution_count": 38,
   "metadata": {},
   "outputs": [
    {
     "name": "stdout",
     "output_type": "stream",
     "text": [
      "Simple dfdf example\n"
     ]
    }
   ],
   "source": [
    "print('{} dfdf {}'.format('Simple','example'))"
   ]
  },
  {
   "cell_type": "code",
   "execution_count": 36,
   "metadata": {},
   "outputs": [
    {
     "name": "stdout",
     "output_type": "stream",
     "text": [
      "More here go\n"
     ]
    }
   ],
   "source": [
    "print('More {} {}'.format('here', 'go'))"
   ]
  },
  {
   "cell_type": "code",
   "execution_count": 41,
   "metadata": {},
   "outputs": [
    {
     "name": "stdout",
     "output_type": "stream",
     "text": [
      " 2|  4|   8|4.00\n"
     ]
    }
   ],
   "source": [
    "x = 2\n",
    "print('{0:2d}|{1:3d}|{2:4d}|{1:.2f}'.format(x, x*x, x*x*x))"
   ]
  },
  {
   "cell_type": "code",
   "execution_count": 44,
   "metadata": {},
   "outputs": [
    {
     "name": "stdout",
     "output_type": "stream",
     "text": [
      "Python is easy.\n"
     ]
    }
   ],
   "source": [
    "print('{lang} is {adjective}.'.format(lang='Python', adjective='easy'))"
   ]
  },
  {
   "cell_type": "code",
   "execution_count": 55,
   "metadata": {},
   "outputs": [
    {
     "name": "stdout",
     "output_type": "stream",
     "text": [
      "fdsfdg\n",
      "g\n",
      "h\n",
      "hhfhfghgfhfhlfghkh fdg gdf hg d hsd\n",
      "h h h gh h  fgh\n",
      "h gh fgh fg\n",
      "dfghfdg\n"
     ]
    }
   ],
   "source": [
    "s = '''fdsfdg\n",
    "g\n",
    "h\n",
    "hhfhfghgfhfhlfghkh fdg gdf hg d hsd\n",
    "h h h gh h  fgh\n",
    "h gh fgh fg\n",
    "dfghfdg'''\n",
    "\n",
    "print(s)"
   ]
  },
  {
   "cell_type": "code",
   "execution_count": 57,
   "metadata": {
    "collapsed": true
   },
   "outputs": [
    {
     "name": "stdout",
     "output_type": "stream",
     "text": [
      "fdsfdg\n",
      "g\n",
      "h\n",
      "hhfhfghgfhfhlfghkh\n",
      "fdg\n",
      "gdf\n",
      "hg\n",
      "d\n",
      "hsd\n",
      "h\n",
      "h\n",
      "h\n",
      "gh\n",
      "h\n",
      "fgh\n",
      "h\n",
      "gh\n",
      "fgh\n",
      "fg\n",
      "dfghfdg\n"
     ]
    }
   ],
   "source": [
    "for line in s.split('\\n'):\n",
    "    for word in line.split():\n",
    "        print(word)"
   ]
  },
  {
   "cell_type": "code",
   "execution_count": 59,
   "metadata": {},
   "outputs": [
    {
     "data": {
      "text/plain": [
       "['dfsdf', 'df', 'dsfd,', 'fdf', 'ff', 'dfd,', 'dfd']"
      ]
     },
     "execution_count": 59,
     "metadata": {},
     "output_type": "execute_result"
    }
   ],
   "source": [
    "s = 'dfsdf df dsfd, fdf ff dfd, dfd'\n",
    "s.split()"
   ]
  },
  {
   "cell_type": "code",
   "execution_count": null,
   "metadata": {},
   "outputs": [],
   "source": [
    "\n"
   ]
  }
 ],
 "metadata": {
  "kernelspec": {
   "display_name": "Python 3",
   "language": "python",
   "name": "python3"
  },
  "language_info": {
   "codemirror_mode": {
    "name": "ipython",
    "version": 3
   },
   "file_extension": ".py",
   "mimetype": "text/x-python",
   "name": "python",
   "nbconvert_exporter": "python",
   "pygments_lexer": "ipython3",
   "version": "3.6.8"
  }
 },
 "nbformat": 4,
 "nbformat_minor": 2
}
