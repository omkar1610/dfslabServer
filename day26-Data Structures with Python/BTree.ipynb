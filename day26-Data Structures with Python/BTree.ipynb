{
 "cells": [
  {
   "cell_type": "code",
   "execution_count": 16,
   "metadata": {},
   "outputs": [],
   "source": [
    "class LeafNode():\n",
    "    \n",
    "    def __init__(self, k):\n",
    "        self.k = k\n",
    "        self.data = []\n",
    "        \n",
    "class NonLeafNode():\n",
    "    \n",
    "    def __init__(self, m):\n",
    "        self.m = m\n",
    "        self.key = []\n",
    "        self.value = []\n",
    "        \n",
    "class BTree():\n",
    "        \n",
    "    def __init__(self, m, k):\n",
    "        self.m = m\n",
    "        self.k = k\n",
    "        self.root = NonLeafNode(m)\n",
    "        \n",
    "           \n",
    "        \n",
    "        \n",
    "    def search(self, key):\n",
    "        if (len(self.root.key)==0) :\n",
    "            print(\"Empty\")\n",
    "        else:\n",
    "            self.__Search(self.root, key)\n",
    "            \n",
    "        \n",
    "    def display(self):\n",
    "        print(self.root.key)\n",
    "        print(self.root.value)\n",
    "    \n",
    "    \n",
    "        "
   ]
  },
  {
   "cell_type": "code",
   "execution_count": 17,
   "metadata": {},
   "outputs": [
    {
     "name": "stdout",
     "output_type": "stream",
     "text": [
      "[]\n",
      "[]\n",
      "Empty\n"
     ]
    }
   ],
   "source": [
    "bt = BTree(5,5)\n",
    "bt.display()\n",
    "bt.search(23)"
   ]
  },
  {
   "cell_type": "code",
   "execution_count": 18,
   "metadata": {},
   "outputs": [],
   "source": [
    "import heapq"
   ]
  },
  {
   "cell_type": "code",
   "execution_count": 20,
   "metadata": {},
   "outputs": [
    {
     "data": {
      "text/plain": [
       "[1, 23, 23, 123, 54, 323, 90]"
      ]
     },
     "execution_count": 20,
     "metadata": {},
     "output_type": "execute_result"
    }
   ],
   "source": [
    "li = [23,1,323,123,54,23,90]\n",
    "heapq.heapify(li)\n",
    "li"
   ]
  },
  {
   "cell_type": "code",
   "execution_count": 21,
   "metadata": {},
   "outputs": [
    {
     "data": {
      "text/plain": [
       "[1, 4, 23, 23, 54, 323, 90, 123]"
      ]
     },
     "execution_count": 21,
     "metadata": {},
     "output_type": "execute_result"
    }
   ],
   "source": [
    "heapq.heappush(li,4) \n",
    "li"
   ]
  },
  {
   "cell_type": "code",
   "execution_count": 27,
   "metadata": {},
   "outputs": [
    {
     "data": {
      "text/plain": [
       "['heappush',\n",
       " 'heappop',\n",
       " 'heapify',\n",
       " 'heapreplace',\n",
       " 'merge',\n",
       " 'nlargest',\n",
       " 'nsmallest',\n",
       " 'heappushpop']"
      ]
     },
     "execution_count": 27,
     "metadata": {},
     "output_type": "execute_result"
    }
   ],
   "source": [
    "heapq.__all__"
   ]
  },
  {
   "cell_type": "code",
   "execution_count": 28,
   "metadata": {},
   "outputs": [
    {
     "ename": "ModuleNotFoundError",
     "evalue": "No module named 'BTrees'",
     "output_type": "error",
     "traceback": [
      "\u001b[0;31m---------------------------------------------------------------------------\u001b[0m",
      "\u001b[0;31mModuleNotFoundError\u001b[0m                       Traceback (most recent call last)",
      "\u001b[0;32m<ipython-input-28-56b0cad808af>\u001b[0m in \u001b[0;36m<module>\u001b[0;34m\u001b[0m\n\u001b[0;32m----> 1\u001b[0;31m \u001b[0;32mfrom\u001b[0m \u001b[0mBTrees\u001b[0m\u001b[0;34m.\u001b[0m\u001b[0mOOBTree\u001b[0m \u001b[0;32mimport\u001b[0m \u001b[0mOOBTree\u001b[0m\u001b[0;34m\u001b[0m\u001b[0;34m\u001b[0m\u001b[0m\n\u001b[0m",
      "\u001b[0;31mModuleNotFoundError\u001b[0m: No module named 'BTrees'"
     ]
    }
   ],
   "source": [
    "from BTrees.OOBTree import OOBTree"
   ]
  }
 ],
 "metadata": {
  "kernelspec": {
   "display_name": "Python 3",
   "language": "python",
   "name": "python3"
  },
  "language_info": {
   "codemirror_mode": {
    "name": "ipython",
    "version": 3
   },
   "file_extension": ".py",
   "mimetype": "text/x-python",
   "name": "python",
   "nbconvert_exporter": "python",
   "pygments_lexer": "ipython3",
   "version": "3.7.4"
  }
 },
 "nbformat": 4,
 "nbformat_minor": 2
}
