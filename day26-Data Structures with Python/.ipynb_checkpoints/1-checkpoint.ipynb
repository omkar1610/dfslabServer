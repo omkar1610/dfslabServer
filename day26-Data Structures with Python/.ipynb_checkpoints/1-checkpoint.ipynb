{
 "cells": [
  {
   "cell_type": "code",
   "execution_count": 175,
   "metadata": {},
   "outputs": [],
   "source": [
    "from ds import Queue, Stack"
   ]
  },
  {
   "cell_type": "code",
   "execution_count": 185,
   "metadata": {},
   "outputs": [],
   "source": [
    "import sys\n",
    "\n",
    "class Trie():\n",
    "    def insert_string(trie, s) :\n",
    "        current_node = trie\n",
    "        for c in s.lower() :\n",
    "            if c not in current_node : # c is not a key in this dictionary\n",
    "                new_node = {}\n",
    "                current_node[c] = new_node\n",
    "                current_node = new_node\n",
    "            else :\n",
    "                current_node = current_node[c]\n",
    "        current_node['flag'] = True\n",
    "\n",
    "\n",
    "    def search(trie, s) :\n",
    "        current_node = trie\n",
    "        for c in s.lower() :\n",
    "            if c not in current_node :\n",
    "                return False\n",
    "            else :\n",
    "                current_node = current_node[c]\n",
    "        return 'flag' in current_node and ['flag'] # guard condition\n"
   ]
  },
  {
   "cell_type": "code",
   "execution_count": 187,
   "metadata": {},
   "outputs": [
    {
     "name": "stdout",
     "output_type": "stream",
     "text": [
      "{}\n"
     ]
    }
   ],
   "source": [
    "trie = {}\n",
    "print(trie)"
   ]
  },
  {
   "cell_type": "code",
   "execution_count": 189,
   "metadata": {},
   "outputs": [
    {
     "data": {
      "text/plain": [
       "{'h': {'e': {'l': {'l': {'o': {'flag': True}}}},\n",
       "  'i': {'m': {'a': {'n': {'flag': True}}}}}}"
      ]
     },
     "execution_count": 189,
     "metadata": {},
     "output_type": "execute_result"
    }
   ],
   "source": [
    "insert_string(trie, \"Hello\")\n",
    "insert_string(trie, \"Himan\")\n",
    "trie"
   ]
  },
  {
   "cell_type": "code",
   "execution_count": null,
   "metadata": {},
   "outputs": [],
   "source": []
  }
 ],
 "metadata": {
  "kernelspec": {
   "display_name": "Python 3",
   "language": "python",
   "name": "python3"
  },
  "language_info": {
   "codemirror_mode": {
    "name": "ipython",
    "version": 2
   },
   "file_extension": ".py",
   "mimetype": "text/x-python",
   "name": "python",
   "nbconvert_exporter": "python",
   "pygments_lexer": "ipython2",
   "version": "2.7.15+"
  }
 },
 "nbformat": 4,
 "nbformat_minor": 2
}
